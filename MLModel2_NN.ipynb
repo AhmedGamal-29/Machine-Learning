{
 "cells": [
  {
   "cell_type": "code",
   "execution_count": null,
   "id": "2fb12d7e",
   "metadata": {
    "id": "2fb12d7e"
   },
   "outputs": [],
   "source": []
  },
  {
   "cell_type": "code",
   "execution_count": 24,
   "id": "57337ffb",
   "metadata": {
    "id": "57337ffb"
   },
   "outputs": [],
   "source": [
    "import numpy as np\n",
    "import matplotlib.pyplot as plt \n",
    "import os \n",
    "import cv2\n",
    "import random\n",
    "from keras.utils import to_categorical\n",
    "from keras.models import Sequential\n",
    "from keras.layers import Conv2D, MaxPooling2D, Dense, Flatten\n",
    "from keras.utils import to_categorical\n",
    "from sklearn.model_selection import KFold\n",
    "from sklearn.model_selection import train_test_split\n",
    "from sklearn.metrics import classification_report\n",
    "from sklearn.metrics import confusion_matrix"
   ]
  },
  {
   "cell_type": "code",
   "execution_count": 25,
   "id": "ab5f0755",
   "metadata": {
    "id": "ab5f0755"
   },
   "outputs": [],
   "source": [
    "data_url = r\"D:\\Final\\Machine\\dataset\\Dataset\"\n",
    "categories = [\"0\",\"1\",\"2\",\"3\",\"4\",\"5\",\"6\",\"7\",\"8\",\"9\"]\n",
    "dataset = []\n",
    "out = []\n",
    "# store and normalize data \n",
    "for cat in categories :\n",
    "    path = os.path.join(data_url,cat)\n",
    "    for imgPath in os.listdir(path):\n",
    "        image = cv2.imread(os.path.join(path,imgPath),cv2.IMREAD_GRAYSCALE)\n",
    "        image = cv2.resize(image, (64,64))\n",
    "        image = image.astype('float32')\n",
    "        image /= 255\n",
    "        dataset.append(image)\n",
    "        out.append(categories.index(cat))\n",
    "        #plt.imshow(image,cmap=\"gray\")\n",
    "        #plt.show()\n",
    "        "
   ]
  },
  {
   "cell_type": "code",
   "execution_count": 26,
   "id": "f2a2f2bc",
   "metadata": {
    "id": "f2a2f2bc"
   },
   "outputs": [],
   "source": [
    "x, x_Test, y, y_Test= train_test_split(dataset, out, test_size=0.2, random_state=42)\n",
    "\n",
    "\n",
    "x = np.asarray(x)\n",
    "y = np.asarray(y)\n",
    "x_Test= np.asarray(x_Test)\n",
    "y_Test= np.asarray(y_Test)\n",
    "\n",
    "\n",
    "x = x.reshape(x.shape[0],64,64,1)\n",
    "x_Test= x_Test.reshape(-1,64,64,1)\n",
    "\n",
    "\n",
    "y = to_categorical(y, 10)\n",
    "#y_test = to_categorical(y_test, 10)\n",
    "y_Test= to_categorical(y_Test,10)\n",
    "\n",
    "# print(y_train.shape)\n",
    "# plt.imshow(x[9],cmap=\"gray\")\n",
    "# plt.show()\n"
   ]
  },
  {
   "cell_type": "code",
   "execution_count": 27,
   "id": "e83d5ddf",
   "metadata": {
    "id": "e83d5ddf"
   },
   "outputs": [],
   "source": [
    "model = Sequential([\n",
    "    Flatten(),\n",
    "    Dense(128, activation='relu'), # hidden layer 1 with 128 neurons and input layer \n",
    "    Dense(64, activation='relu'),# hidden layer 2 with 64 neurons\n",
    "    Dense(32, activation='relu'),  # hidden layer 3 with 32 neurons\n",
    "    Dense(10, activation='softmax'),  # out layer \n",
    "])\n",
    "model.compile(loss='categorical_crossentropy', optimizer='adam', metrics=['accuracy'])\n",
    "\n",
    "#hist = model.fit(x_train, y_train,batch_size=32, epochs=10,validation_data=(x_valid, y_valid))"
   ]
  },
  {
   "cell_type": "code",
   "execution_count": 28,
   "id": "2f2bac90",
   "metadata": {
    "id": "2f2bac90"
   },
   "outputs": [],
   "source": [
    "# k-fold cross-validation during trianing\n",
    "scores, histories = list(), list()\n",
    "sum_ = 0.0\n",
    "# prepare cross validation\n",
    "K=6\n",
    "kfold = KFold(K)\n",
    "\n",
    "# enumerate splits\n",
    "for train_index, valid_index in kfold.split(x):\n",
    "    # select rows for train and test\n",
    "    x_train, x_valid = x[train_index], x[valid_index]\n",
    "    y_train, y_valid = y[train_index], y[valid_index]\n",
    "    # fit model\n",
    "    history = model.fit(x_train, y_train, epochs=15, batch_size=32, validation_data=(x_valid, y_valid), verbose=0)\n",
    "    # evaluate model\n",
    "    _, acc = model.evaluate(x_valid,y_valid, verbose=0)\n",
    "    # stores scores\n",
    "    scores.append(acc)\n",
    "    histories.append(history)\n",
    "    sum_ += acc\n",
    "scoreOfVal = sum_ / K\n",
    "\n",
    "#Testing Accuracy\n",
    "_, scoreOfTest = model.evaluate(x_Test, y_Test, batch_size=32, verbose=0)\n"
   ]
  },
  {
   "cell_type": "code",
   "execution_count": 29,
   "id": "2d849103",
   "metadata": {
    "colab": {
     "base_uri": "https://localhost:8080/"
    },
    "id": "2d849103",
    "outputId": "04627df3-c2f1-422f-ab6d-7c21c9edd829"
   },
   "outputs": [
    {
     "name": "stdout",
     "output_type": "stream",
     "text": [
      "accuracy for Validation =  0.7829573154449463\n",
      "accuracy for Testing =  0.7312348484992981\n",
      "13/13 [==============================] - 0s 3ms/step\n",
      "              precision    recall  f1-score   support\n",
      "\n",
      "           0       0.89      0.78      0.83        40\n",
      "           1       0.93      0.81      0.87        48\n",
      "           2       0.68      0.86      0.76        50\n",
      "           3       0.72      0.80      0.76        35\n",
      "           4       0.52      0.78      0.62        32\n",
      "           5       0.69      0.92      0.79        38\n",
      "           6       0.67      0.80      0.73        41\n",
      "           7       0.77      0.53      0.62        38\n",
      "           8       0.83      0.42      0.56        45\n",
      "           9       0.78      0.63      0.70        46\n",
      "\n",
      "    accuracy                           0.73       413\n",
      "   macro avg       0.75      0.73      0.72       413\n",
      "weighted avg       0.76      0.73      0.73       413\n",
      "\n",
      "[[31  0  1  1  4  0  2  0  0  1]\n",
      " [ 1 39  4  2  0  1  1  0  0  0]\n",
      " [ 0  1 43  1  1  0  3  1  0  0]\n",
      " [ 0  0  1 28  0  3  1  0  0  2]\n",
      " [ 0  0  1  0 25  1  4  1  0  0]\n",
      " [ 1  0  0  2  0 35  0  0  0  0]\n",
      " [ 0  0  1  0  6  1 33  0  0  0]\n",
      " [ 0  0  8  1  2  0  5 20  2  0]\n",
      " [ 0  1  4  1  9  2  0  4 19  5]\n",
      " [ 2  1  0  3  1  8  0  0  2 29]]\n"
     ]
    }
   ],
   "source": [
    "\n",
    "print('accuracy for Validation = ', scoreOfVal)\n",
    "print('accuracy for Testing = ', scoreOfTest)\n",
    "\n",
    "y_pred = model.predict(x_Test)\n",
    "# print(y_pred)\n",
    "\n",
    "\n",
    "y_pred_ =np.argmax(y_pred, axis=1)\n",
    "y_test_ =np.argmax(y_Test, axis=1)\n",
    "# print(y_test)\n",
    "\n",
    "\n",
    "print(classification_report(y_test_, y_pred_))\n",
    "print(confusion_matrix(y_test_, y_pred_))\n",
    "\n",
    "# # Precision= TP/(TP + FP) = Accuracy of positive predictions.\n",
    "\n",
    "# # Recall = TP/(TP+FN) = Fraction of positives that were correctly identified.\n",
    "\n",
    "# # F1 Score = 2*(Recall * Precision) / (Recall + Precision) = What percent of positive predictions were correct? \n",
    "\n"
   ]
  }
 ],
 "metadata": {
  "colab": {
   "provenance": []
  },
  "kernelspec": {
   "display_name": "Python 3 (ipykernel)",
   "language": "python",
   "name": "python3"
  },
  "language_info": {
   "codemirror_mode": {
    "name": "ipython",
    "version": 3
   },
   "file_extension": ".py",
   "mimetype": "text/x-python",
   "name": "python",
   "nbconvert_exporter": "python",
   "pygments_lexer": "ipython3",
   "version": "3.10.6"
  }
 },
 "nbformat": 4,
 "nbformat_minor": 5
}
