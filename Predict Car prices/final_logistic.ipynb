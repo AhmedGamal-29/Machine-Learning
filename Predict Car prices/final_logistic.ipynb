{
 "cells": [
  {
   "cell_type": "code",
   "execution_count": 308,
   "id": "2c825b69",
   "metadata": {},
   "outputs": [],
   "source": [
    "import pandas as pd\n",
    "import numpy as np\n",
    "import matplotlib.pyplot as plot"
   ]
  },
  {
   "cell_type": "code",
   "execution_count": 309,
   "id": "164e373f",
   "metadata": {},
   "outputs": [],
   "source": [
    "data = pd.read_csv('E:/study/4.Forth Level/Machine Learning/customer_data.csv')"
   ]
  },
  {
   "cell_type": "code",
   "execution_count": 310,
   "id": "bbe9a05a",
   "metadata": {},
   "outputs": [
    {
     "data": {
      "text/html": [
       "<div>\n",
       "<style scoped>\n",
       "    .dataframe tbody tr th:only-of-type {\n",
       "        vertical-align: middle;\n",
       "    }\n",
       "\n",
       "    .dataframe tbody tr th {\n",
       "        vertical-align: top;\n",
       "    }\n",
       "\n",
       "    .dataframe thead th {\n",
       "        text-align: right;\n",
       "    }\n",
       "</style>\n",
       "<table border=\"1\" class=\"dataframe\">\n",
       "  <thead>\n",
       "    <tr style=\"text-align: right;\">\n",
       "      <th></th>\n",
       "      <th>age</th>\n",
       "      <th>salary</th>\n",
       "      <th>purchased</th>\n",
       "    </tr>\n",
       "  </thead>\n",
       "  <tbody>\n",
       "    <tr>\n",
       "      <th>count</th>\n",
       "      <td>400.000000</td>\n",
       "      <td>400.000000</td>\n",
       "      <td>400.000000</td>\n",
       "    </tr>\n",
       "    <tr>\n",
       "      <th>mean</th>\n",
       "      <td>37.655000</td>\n",
       "      <td>69742.500000</td>\n",
       "      <td>0.357500</td>\n",
       "    </tr>\n",
       "    <tr>\n",
       "      <th>std</th>\n",
       "      <td>10.482877</td>\n",
       "      <td>34096.960282</td>\n",
       "      <td>0.479864</td>\n",
       "    </tr>\n",
       "    <tr>\n",
       "      <th>min</th>\n",
       "      <td>18.000000</td>\n",
       "      <td>15000.000000</td>\n",
       "      <td>0.000000</td>\n",
       "    </tr>\n",
       "    <tr>\n",
       "      <th>25%</th>\n",
       "      <td>29.750000</td>\n",
       "      <td>43000.000000</td>\n",
       "      <td>0.000000</td>\n",
       "    </tr>\n",
       "    <tr>\n",
       "      <th>50%</th>\n",
       "      <td>37.000000</td>\n",
       "      <td>70000.000000</td>\n",
       "      <td>0.000000</td>\n",
       "    </tr>\n",
       "    <tr>\n",
       "      <th>75%</th>\n",
       "      <td>46.000000</td>\n",
       "      <td>88000.000000</td>\n",
       "      <td>1.000000</td>\n",
       "    </tr>\n",
       "    <tr>\n",
       "      <th>max</th>\n",
       "      <td>60.000000</td>\n",
       "      <td>150000.000000</td>\n",
       "      <td>1.000000</td>\n",
       "    </tr>\n",
       "  </tbody>\n",
       "</table>\n",
       "</div>"
      ],
      "text/plain": [
       "              age         salary   purchased\n",
       "count  400.000000     400.000000  400.000000\n",
       "mean    37.655000   69742.500000    0.357500\n",
       "std     10.482877   34096.960282    0.479864\n",
       "min     18.000000   15000.000000    0.000000\n",
       "25%     29.750000   43000.000000    0.000000\n",
       "50%     37.000000   70000.000000    0.000000\n",
       "75%     46.000000   88000.000000    1.000000\n",
       "max     60.000000  150000.000000    1.000000"
      ]
     },
     "execution_count": 310,
     "metadata": {},
     "output_type": "execute_result"
    }
   ],
   "source": [
    "data.describe()"
   ]
  },
  {
   "cell_type": "code",
   "execution_count": 311,
   "id": "0978dc81",
   "metadata": {},
   "outputs": [],
   "source": [
    " data.drop_duplicates(subset=None, keep='first', inplace=True)"
   ]
  },
  {
   "cell_type": "code",
   "execution_count": 312,
   "id": "5777c317",
   "metadata": {},
   "outputs": [
    {
     "data": {
      "text/html": [
       "<div>\n",
       "<style scoped>\n",
       "    .dataframe tbody tr th:only-of-type {\n",
       "        vertical-align: middle;\n",
       "    }\n",
       "\n",
       "    .dataframe tbody tr th {\n",
       "        vertical-align: top;\n",
       "    }\n",
       "\n",
       "    .dataframe thead th {\n",
       "        text-align: right;\n",
       "    }\n",
       "</style>\n",
       "<table border=\"1\" class=\"dataframe\">\n",
       "  <thead>\n",
       "    <tr style=\"text-align: right;\">\n",
       "      <th></th>\n",
       "      <th>age</th>\n",
       "      <th>salary</th>\n",
       "      <th>purchased</th>\n",
       "    </tr>\n",
       "  </thead>\n",
       "  <tbody>\n",
       "    <tr>\n",
       "      <th>count</th>\n",
       "      <td>367.000000</td>\n",
       "      <td>367.000000</td>\n",
       "      <td>367.000000</td>\n",
       "    </tr>\n",
       "    <tr>\n",
       "      <th>mean</th>\n",
       "      <td>37.722071</td>\n",
       "      <td>70719.346049</td>\n",
       "      <td>0.376022</td>\n",
       "    </tr>\n",
       "    <tr>\n",
       "      <th>std</th>\n",
       "      <td>10.681383</td>\n",
       "      <td>34772.173908</td>\n",
       "      <td>0.485047</td>\n",
       "    </tr>\n",
       "    <tr>\n",
       "      <th>min</th>\n",
       "      <td>18.000000</td>\n",
       "      <td>15000.000000</td>\n",
       "      <td>0.000000</td>\n",
       "    </tr>\n",
       "    <tr>\n",
       "      <th>25%</th>\n",
       "      <td>29.500000</td>\n",
       "      <td>43000.000000</td>\n",
       "      <td>0.000000</td>\n",
       "    </tr>\n",
       "    <tr>\n",
       "      <th>50%</th>\n",
       "      <td>37.000000</td>\n",
       "      <td>71000.000000</td>\n",
       "      <td>0.000000</td>\n",
       "    </tr>\n",
       "    <tr>\n",
       "      <th>75%</th>\n",
       "      <td>46.000000</td>\n",
       "      <td>89000.000000</td>\n",
       "      <td>1.000000</td>\n",
       "    </tr>\n",
       "    <tr>\n",
       "      <th>max</th>\n",
       "      <td>60.000000</td>\n",
       "      <td>150000.000000</td>\n",
       "      <td>1.000000</td>\n",
       "    </tr>\n",
       "  </tbody>\n",
       "</table>\n",
       "</div>"
      ],
      "text/plain": [
       "              age         salary   purchased\n",
       "count  367.000000     367.000000  367.000000\n",
       "mean    37.722071   70719.346049    0.376022\n",
       "std     10.681383   34772.173908    0.485047\n",
       "min     18.000000   15000.000000    0.000000\n",
       "25%     29.500000   43000.000000    0.000000\n",
       "50%     37.000000   71000.000000    0.000000\n",
       "75%     46.000000   89000.000000    1.000000\n",
       "max     60.000000  150000.000000    1.000000"
      ]
     },
     "execution_count": 312,
     "metadata": {},
     "output_type": "execute_result"
    }
   ],
   "source": [
    "data.describe()"
   ]
  },
  {
   "cell_type": "code",
   "execution_count": 313,
   "id": "9211f762",
   "metadata": {},
   "outputs": [],
   "source": [
    "data.insert(0,\"x0\",1)"
   ]
  },
  {
   "cell_type": "code",
   "execution_count": 314,
   "id": "98d03a17",
   "metadata": {},
   "outputs": [],
   "source": [
    "#data=data.sample(frac=1)"
   ]
  },
  {
   "cell_type": "code",
   "execution_count": 315,
   "id": "0e552827",
   "metadata": {},
   "outputs": [
    {
     "name": "stderr",
     "output_type": "stream",
     "text": [
      "C:\\Users\\Lap Smart\\AppData\\Local\\Temp\\ipykernel_3180\\2710426432.py:11: SettingWithCopyWarning: \n",
      "A value is trying to be set on a copy of a slice from a DataFrame.\n",
      "Try using .loc[row_indexer,col_indexer] = value instead\n",
      "\n",
      "See the caveats in the documentation: https://pandas.pydata.org/pandas-docs/stable/user_guide/indexing.html#returning-a-view-versus-a-copy\n",
      "  x.iloc[:,1]= (x.iloc[:,1]-x1_min)/(x1_max - x1_min)\n",
      "C:\\Users\\Lap Smart\\AppData\\Local\\Temp\\ipykernel_3180\\2710426432.py:12: SettingWithCopyWarning: \n",
      "A value is trying to be set on a copy of a slice from a DataFrame.\n",
      "Try using .loc[row_indexer,col_indexer] = value instead\n",
      "\n",
      "See the caveats in the documentation: https://pandas.pydata.org/pandas-docs/stable/user_guide/indexing.html#returning-a-view-versus-a-copy\n",
      "  x.iloc[:,2]= (x.iloc[:,2]-x2_min)/(x2_max - x2_min)\n"
     ]
    }
   ],
   "source": [
    "x=data.iloc[:,[0,1,2]]\n",
    "y=data.iloc[:,-1]\n",
    "x1_min=x.iloc[:,1].min()\n",
    "x1_max=x.iloc[:,1].max()\n",
    "\n",
    "x2_min=x.iloc[:,2].min()\n",
    "x2_max=x.iloc[:,2].max()\n",
    "\n",
    "# normalizing data \n",
    "\n",
    "x.iloc[:,1]= (x.iloc[:,1]-x1_min)/(x1_max - x1_min)\n",
    "x.iloc[:,2]= (x.iloc[:,2]-x2_min)/(x2_max - x2_min)\n",
    "\n"
   ]
  },
  {
   "cell_type": "code",
   "execution_count": 316,
   "id": "94526d42",
   "metadata": {},
   "outputs": [
    {
     "name": "stderr",
     "output_type": "stream",
     "text": [
      "C:\\Users\\Lap Smart\\AppData\\Local\\Temp\\ipykernel_3180\\1923090089.py:5: FutureWarning: The behavior of `series[i:j]` with an integer-dtype index is deprecated. In a future version, this will be treated as *label-based* indexing, consistent with e.g. `series[i]` lookups. To retain the old behavior, use `series.iloc[i:j]`. To get the future behavior, use `series.loc[i:j]`.\n",
      "  y_train=y[0:164]\n",
      "C:\\Users\\Lap Smart\\AppData\\Local\\Temp\\ipykernel_3180\\1923090089.py:9: FutureWarning: The behavior of `series[i:j]` with an integer-dtype index is deprecated. In a future version, this will be treated as *label-based* indexing, consistent with e.g. `series[i]` lookups. To retain the old behavior, use `series.iloc[i:j]`. To get the future behavior, use `series.loc[i:j]`.\n",
      "  y_test=y[164:]\n"
     ]
    }
   ],
   "source": [
    "# splitting data into train and test \n",
    "\n",
    "x_train=x[0:164]\n",
    "\n",
    "y_train=y[0:164]\n",
    "\n",
    "x_test=x[164:]\n",
    "\n",
    "y_test=y[164:]\n",
    "\n",
    "# transfer data from data frame into matrix\n",
    "\n",
    "x_train=np.array(x_train)\n",
    "\n",
    "y_train=np.array(y_train).flatten()\n"
   ]
  },
  {
   "cell_type": "code",
   "execution_count": 317,
   "id": "170e9103",
   "metadata": {},
   "outputs": [],
   "source": [
    "def sigmoid(x):\n",
    "    return 1/(1+np.exp(-x))"
   ]
  },
  {
   "cell_type": "code",
   "execution_count": 318,
   "id": "380f76f5",
   "metadata": {},
   "outputs": [],
   "source": [
    "theta=np.array([0,0,0])\n",
    "m= len(y)\n"
   ]
  },
  {
   "cell_type": "code",
   "execution_count": 319,
   "id": "e8bc6218",
   "metadata": {},
   "outputs": [],
   "source": [
    " def fit(alpha,iterations,x_train,y_train,m,theta):\n",
    "        for i in range(iterations):\n",
    "            h=sigmoid(x_train.dot(theta))\n",
    "            loss =-np.mean(y_train*(np.log(h))-(1-y_train)*np.log(1-h))\n",
    "            g = np.dot(x_train.T,(h - y_train)) / m\n",
    "            theta =theta - (alpha * g)\n",
    "        return theta"
   ]
  },
  {
   "cell_type": "code",
   "execution_count": 320,
   "id": "211fd92d",
   "metadata": {},
   "outputs": [],
   "source": [
    "def predict(X,theta):\n",
    "    y_pred = sigmoid(X.dot(theta))\n",
    "    preds = []\n",
    "    preds = [1 if i > 0.5 else 0 for i in y_pred]\n",
    "    \n",
    "    return np.array(preds)"
   ]
  },
  {
   "cell_type": "code",
   "execution_count": 321,
   "id": "168cb291",
   "metadata": {},
   "outputs": [
    {
     "name": "stdout",
     "output_type": "stream",
     "text": [
      "0.896551724137931\n"
     ]
    }
   ],
   "source": [
    "new_theta=fit(0.01 , 10000,x_train,y_train,m,theta)\n",
    "    \n",
    "y_pred = predict(x_test,new_theta)\n",
    " \n",
    "print(sum(y_pred==y_test)/len(y_test))"
   ]
  },
  {
   "cell_type": "code",
   "execution_count": null,
   "id": "fb9f641d",
   "metadata": {},
   "outputs": [],
   "source": []
  },
  {
   "cell_type": "code",
   "execution_count": null,
   "id": "17347aaf",
   "metadata": {},
   "outputs": [],
   "source": []
  }
 ],
 "metadata": {
  "kernelspec": {
   "display_name": "Python 3 (ipykernel)",
   "language": "python",
   "name": "python3"
  },
  "language_info": {
   "codemirror_mode": {
    "name": "ipython",
    "version": 3
   },
   "file_extension": ".py",
   "mimetype": "text/x-python",
   "name": "python",
   "nbconvert_exporter": "python",
   "pygments_lexer": "ipython3",
   "version": "3.10.4"
  }
 },
 "nbformat": 4,
 "nbformat_minor": 5
}
