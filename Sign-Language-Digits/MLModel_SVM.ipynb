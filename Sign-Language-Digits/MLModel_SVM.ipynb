{
 "cells": [
  {
   "cell_type": "code",
   "execution_count": 8,
   "id": "99960e38",
   "metadata": {
    "id": "99960e38"
   },
   "outputs": [],
   "source": [
    "import pandas\n",
    "import numpy\n",
    "from sklearn.svm import SVC\n",
    "from sklearn.metrics import accuracy_score\n",
    "import matplotlib.pyplot as plot\n",
    "import os\n",
    "import numpy as np\n",
    "import cv2\n",
    "from sklearn.model_selection import train_test_split\n",
    "from keras.utils import to_categorical\n",
    "import matplotlib.pyplot as plt \n"
   ]
  },
  {
   "cell_type": "code",
   "execution_count": 9,
   "id": "XtmTqHMXviVf",
   "metadata": {
    "colab": {
     "base_uri": "https://localhost:8080/"
    },
    "id": "XtmTqHMXviVf",
    "outputId": "76022ed7-6708-4624-95ee-c361026a178a"
   },
   "outputs": [
    {
     "name": "stdout",
     "output_type": "stream",
     "text": [
      "Drive already mounted at /content/drive; to attempt to forcibly remount, call drive.mount(\"/content/drive\", force_remount=True).\n"
     ]
    }
   ],
   "source": [
    "from google.colab import drive\n",
    "drive.mount('/content/drive')"
   ]
  },
  {
   "cell_type": "code",
   "execution_count": 9,
   "id": "q0ziy87vvjWW",
   "metadata": {
    "id": "q0ziy87vvjWW"
   },
   "outputs": [],
   "source": []
  },
  {
   "cell_type": "code",
   "execution_count": 10,
   "id": "312eb2e5",
   "metadata": {
    "id": "312eb2e5"
   },
   "outputs": [],
   "source": [
    "data_url = '/content/drive/MyDrive/Dataset'\n",
    "categories = [\"0\",\"1\",\"2\",\"3\",\"4\",\"5\",\"6\",\"7\",\"8\",\"9\"]\n",
    "dataset = []\n",
    "out = []\n",
    "# store and normalize data \n",
    "for cat in categories :\n",
    "    path = os.path.join(data_url,cat)\n",
    "    for imgPath in os.listdir(path):\n",
    "        image = cv2.imread(os.path.join(path,imgPath),cv2.IMREAD_GRAYSCALE)\n",
    "        image = cv2.resize(image, (64,64))\n",
    "        image = image.astype('float32')\n",
    "        image /= 255\n",
    "        dataset.append(image)\n",
    "        out.append(categories.index(cat))\n",
    "        #plt.imshow(image,cmap=\"gray\")\n",
    "        #plt.show()\n",
    "        \n"
   ]
  },
  {
   "cell_type": "code",
   "execution_count": 11,
   "id": "5963bf4d",
   "metadata": {
    "id": "5963bf4d"
   },
   "outputs": [],
   "source": [
    "x_train, x_test, y_train, y_test = train_test_split(dataset, out, test_size=0.2, random_state=42)\n",
    "\n",
    "\n",
    "\n",
    "x_train = np.asarray(x_train)\n",
    "y_train = np.asarray(y_train)\n",
    "\n",
    "x_test = np.asarray(x_test)\n",
    "y_test = np.asarray(y_test)\n",
    "\n",
    "\n",
    "\n",
    "x_train = np.reshape(x_train,(len(x_train),64*64))\n",
    "x_test = np.reshape(x_test,(len(x_test),64*64))\n",
    "\n"
   ]
  },
  {
   "cell_type": "code",
   "execution_count": 12,
   "id": "99e6e7aa",
   "metadata": {
    "colab": {
     "base_uri": "https://localhost:8080/"
    },
    "id": "99e6e7aa",
    "outputId": "4879eb74-80d3-491e-8081-78bfd8a2a584"
   },
   "outputs": [
    {
     "name": "stdout",
     "output_type": "stream",
     "text": [
      "0.8038740920096852\n"
     ]
    }
   ],
   "source": [
    "model = SVC() #kernel='linear'\n",
    "model.fit(x_train,y_train)\n",
    "y_pred = model.predict(x_test)\n",
    "print(accuracy_score(y_test,y_pred))"
   ]
  },
  {
   "cell_type": "code",
   "execution_count": 14,
   "id": "b115b470",
   "metadata": {
    "colab": {
     "base_uri": "https://localhost:8080/"
    },
    "id": "b115b470",
    "outputId": "9d2fe741-f1de-4e83-8b53-71a284f5b2f7"
   },
   "outputs": [
    {
     "name": "stdout",
     "output_type": "stream",
     "text": [
      "              precision    recall  f1-score   support\n",
      "\n",
      "           0       0.90      0.93      0.91        40\n",
      "           1       0.83      0.92      0.87        48\n",
      "           2       0.86      0.72      0.78        50\n",
      "           3       0.87      0.74      0.80        35\n",
      "           4       0.59      0.69      0.64        32\n",
      "           5       0.86      0.84      0.85        38\n",
      "           6       0.72      0.76      0.74        41\n",
      "           7       0.69      0.76      0.72        38\n",
      "           8       0.82      0.80      0.81        45\n",
      "           9       0.89      0.85      0.87        46\n",
      "\n",
      "    accuracy                           0.80       413\n",
      "   macro avg       0.80      0.80      0.80       413\n",
      "weighted avg       0.81      0.80      0.80       413\n",
      "\n",
      "[[37  1  0  0  0  0  0  1  0  1]\n",
      " [ 0 44  0  0  0  0  1  1  2  0]\n",
      " [ 1  4 36  2  0  0  3  4  0  0]\n",
      " [ 0  1  3 26  0  5  0  0  0  0]\n",
      " [ 0  0  0  0 22  0  6  4  0  0]\n",
      " [ 0  0  0  2  4 32  0  0  0  0]\n",
      " [ 0  0  2  0  4  0 31  1  1  2]\n",
      " [ 1  1  1  0  3  0  1 29  2  0]\n",
      " [ 2  1  0  0  1  0  1  2 36  2]\n",
      " [ 0  1  0  0  3  0  0  0  3 39]]\n"
     ]
    }
   ],
   "source": [
    "from sklearn.metrics import classification_report\n",
    "from sklearn.metrics import confusion_matrix\n",
    "\n",
    "print(classification_report(y_test, y_pred))\n",
    "print (confusion_matrix(y_test, y_pred))"
   ]
  }
 ],
 "metadata": {
  "colab": {
   "provenance": []
  },
  "kernelspec": {
   "display_name": "Python 3 (ipykernel)",
   "language": "python",
   "name": "python3"
  },
  "language_info": {
   "codemirror_mode": {
    "name": "ipython",
    "version": 3
   },
   "file_extension": ".py",
   "mimetype": "text/x-python",
   "name": "python",
   "nbconvert_exporter": "python",
   "pygments_lexer": "ipython3",
   "version": "3.10.6"
  }
 },
 "nbformat": 4,
 "nbformat_minor": 5
}
